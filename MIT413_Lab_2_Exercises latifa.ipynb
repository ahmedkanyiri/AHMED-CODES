{
 "cells": [
  {
   "cell_type": "markdown",
   "metadata": {
    "id": "vHaz6UVpl-yE"
   },
   "source": [
    "# Question 1"
   ]
  },
  {
   "cell_type": "markdown",
   "metadata": {
    "id": "SqB0WCKumDzN"
   },
   "source": [
    "Import the following libraries in the cell below as appropriate:\n",
    "  * opencv\n",
    "  * pydicom\n",
    "  * numpy\n",
    "  * matplotlib"
   ]
  },
  {
   "cell_type": "code",
   "execution_count": 2,
   "metadata": {
    "id": "yChA_62Jl0d3"
   },
   "outputs": [
    {
     "name": "stdout",
     "output_type": "stream",
     "text": [
      "libraries imported successfully\n"
     ]
    }
   ],
   "source": [
    "#### put your code here\n",
    "import cv2\n",
    "import pydicom\n",
    "import numpy as np\n",
    "import matplotlib.pyplot as plt\n",
    "\n",
    "print(\"libraries imported successfully\")\n",
    "\n"
   ]
  },
  {
   "cell_type": "markdown",
   "metadata": {
    "id": "FmXs5DJlm66_"
   },
   "source": [
    "Load any image of your choice using the appropriate libraries.\n",
    "\n",
    "Make sure to store the loaded image in a variable."
   ]
  },
  {
   "cell_type": "code",
   "execution_count": 3,
   "metadata": {
    "id": "WNMNrcWVndu8"
   },
   "outputs": [],
   "source": [
    "#### put your code here\n",
    "buk = cv2.imread(\"Bukky.jpg\")\n",
    "\n"
   ]
  },
  {
   "cell_type": "markdown",
   "metadata": {
    "id": "OlIM76vYl903"
   },
   "source": [
    "Convert the loaded image into grayscale.\n",
    "\n",
    "Make sure to store the grayscale image in a variable"
   ]
  },
  {
   "cell_type": "code",
   "execution_count": 4,
   "metadata": {
    "id": "6mG86wrBoIeF"
   },
   "outputs": [],
   "source": [
    "#### Put your code here\n",
    "buk_gray = cv2.cvtColor(buk, cv2.COLOR_RGB2GRAY)\n",
    "\n",
    "\n",
    "\n"
   ]
  },
  {
   "cell_type": "markdown",
   "metadata": {
    "id": "YhFMDc-Dngpn"
   },
   "source": [
    "Display the original image and grayscale image using the matplotlib or the opencv library"
   ]
  },
  {
   "cell_type": "code",
   "execution_count": 5,
   "metadata": {
    "id": "Ek9epFHhosNt"
   },
   "outputs": [],
   "source": [
    "####   put your code here\n",
    "cv2.imshow(\"Latifa\", buk)\n",
    "cv2.waitKey(0)\n",
    "cv2.destroyAllWindows()\n",
    "\n",
    "cv2.imshow(\"Gray image\", buk_gray)\n",
    "cv2.waitKey(0)\n",
    "cv2.destroyAllWindows()\n",
    "\n",
    "\n",
    "\n",
    "\n"
   ]
  },
  {
   "cell_type": "markdown",
   "metadata": {
    "id": "OQEYY01tov0m"
   },
   "source": [
    "Apply Median blur to the original image loaded ealier on.\n",
    "\n",
    "This link might be helpful: https://learnopencv.com/image-filtering-using-convolution-in-opencv/#gauss-blur-opencv"
   ]
  },
  {
   "cell_type": "code",
   "execution_count": 7,
   "metadata": {
    "id": "CXlEe9J6q3bJ"
   },
   "outputs": [],
   "source": [
    "#### Put your code here\n",
    "buk_blurred = cv2.GaussianBlur(buk, (15,15), 0) \n",
    "\n",
    "cv2.imshow(\"Blurred Image\", buk_blurred)\n",
    "cv2.waitKey(0)\n",
    "cv2.destroyAllWindows()\n",
    "\n",
    "\n",
    "\n"
   ]
  },
  {
   "cell_type": "markdown",
   "metadata": {
    "id": "BFAKEl3vvCvU"
   },
   "source": [
    " Resize the original image to (128, 128) using `cv2.resize().`\n",
    "\n",
    " This link might be helpful: https://learnopencv.com/image-resizing-with-opencv/"
   ]
  },
  {
   "cell_type": "code",
   "execution_count": 9,
   "metadata": {
    "id": "stoFEqrovB5z"
   },
   "outputs": [
    {
     "ename": "NameError",
     "evalue": "name 'resized_up' is not defined",
     "output_type": "error",
     "traceback": [
      "\u001b[1;31m---------------------------------------------------------------------------\u001b[0m",
      "\u001b[1;31mNameError\u001b[0m                                 Traceback (most recent call last)",
      "Cell \u001b[1;32mIn[9], line 8\u001b[0m\n\u001b[0;32m      6\u001b[0m cv2\u001b[38;5;241m.\u001b[39mimshow(\u001b[38;5;124m'\u001b[39m\u001b[38;5;124mResized Down by defining height and width\u001b[39m\u001b[38;5;124m'\u001b[39m, resized_down)\n\u001b[0;32m      7\u001b[0m cv2\u001b[38;5;241m.\u001b[39mwaitKey()\n\u001b[1;32m----> 8\u001b[0m cv2\u001b[38;5;241m.\u001b[39mimshow(\u001b[38;5;124m'\u001b[39m\u001b[38;5;124mResized Up image by defining height and width\u001b[39m\u001b[38;5;124m'\u001b[39m, resized_up)\n\u001b[0;32m      9\u001b[0m cv2\u001b[38;5;241m.\u001b[39mwaitKey()\n",
      "\u001b[1;31mNameError\u001b[0m: name 'resized_up' is not defined"
     ]
    }
   ],
   "source": [
    "down_width = 128\n",
    "down_height = 128\n",
    "down_points = (down_width, down_height)\n",
    "resized_down = cv2.resize(buk, down_points, interpolation= cv2.INTER_LINEAR)\n",
    "\n",
    "cv2.imshow('Resized Down by defining height and width', resized_down)\n",
    "cv2.waitKey()\n",
    "cv2.imshow('Resized Up image by defining height and width', resized_up)\n",
    "cv2.waitKey()"
   ]
  },
  {
   "cell_type": "markdown",
   "metadata": {
    "id": "na-dBdpQq7vj"
   },
   "source": [
    "Apply Canny edge detection to extract prominent edges within the original image.\n",
    "\n",
    "This link might be helpful: https://learnopencv.com/edge-detection-using-opencv/"
   ]
  },
  {
   "cell_type": "code",
   "execution_count": 10,
   "metadata": {
    "id": "ASJodhq0rjdt"
   },
   "outputs": [
    {
     "data": {
      "text/plain": [
       "-1"
      ]
     },
     "execution_count": 10,
     "metadata": {},
     "output_type": "execute_result"
    }
   ],
   "source": [
    "#### Put your code here\n",
    "edges = cv2.Canny(image=buk_blurred, threshold1=100, threshold2=200) # Canny Edge Detection\n",
    "# Display Canny Edge Detection Image\n",
    "cv2.imshow('Canny Edge Detection', edges)\n",
    "cv2.waitKey(0)\n",
    "\n",
    "\n",
    "\n"
   ]
  },
  {
   "cell_type": "markdown",
   "metadata": {
    "id": "PSDsZ6xWsBwg"
   },
   "source": [
    "**NB: Close all windows using `cv2.destroyAllWindows()` after displaying images.**"
   ]
  },
  {
   "cell_type": "markdown",
   "metadata": {
    "id": "lidU2XrtwQpj"
   },
   "source": [
    "# **Question 2**"
   ]
  },
  {
   "cell_type": "markdown",
   "metadata": {
    "id": "vlxmdrwuyejO"
   },
   "source": [
    "Import and parse the attached DICOM file using the pydicom library"
   ]
  },
  {
   "cell_type": "code",
   "execution_count": 11,
   "metadata": {
    "id": "lQt54kKmyqHf"
   },
   "outputs": [
    {
     "data": {
      "text/plain": [
       "Dataset.file_meta -------------------------------\n",
       "(0002, 0000) File Meta Information Group Length  UL: 196\n",
       "(0002, 0001) File Meta Information Version       OB: b'\\x00\\x01'\n",
       "(0002, 0002) Media Storage SOP Class UID         UI: CT Image Storage\n",
       "(0002, 0003) Media Storage SOP Instance UID      UI: 1.3.6.1.4.1.14519.5.2.1.7009.2401.246023531904615200398542845148\n",
       "(0002, 0010) Transfer Syntax UID                 UI: Explicit VR Little Endian\n",
       "(0002, 0012) Implementation Class UID            UI: 1.2.40.0.13.1.1.1\n",
       "(0002, 0013) Implementation Version Name         SH: 'dcm4che-1.4.35'\n",
       "-------------------------------------------------\n",
       "(0008, 0005) Specific Character Set              CS: 'ISO_IR 100'\n",
       "(0008, 0008) Image Type                          CS: ['ORIGINAL', 'PRIMARY', 'AXIAL']\n",
       "(0008, 0012) Instance Creation Date              DA: '19600101'\n",
       "(0008, 0013) Instance Creation Time              TM: '172118'\n",
       "(0008, 0016) SOP Class UID                       UI: CT Image Storage\n",
       "(0008, 0018) SOP Instance UID                    UI: 1.3.6.1.4.1.14519.5.2.1.7009.2401.246023531904615200398542845148\n",
       "(0008, 0020) Study Date                          DA: '19600101'\n",
       "(0008, 0021) Series Date                         DA: '19600101'\n",
       "(0008, 0022) Acquisition Date                    DA: '19600101'\n",
       "(0008, 0023) Content Date                        DA: '19600101'\n",
       "(0008, 0030) Study Time                          TM: '170835'\n",
       "(0008, 0031) Series Time                         TM: '172010'\n",
       "(0008, 0032) Acquisition Time                    TM: '172024'\n",
       "(0008, 0033) Content Time                        TM: '172118'\n",
       "(0008, 0050) Accession Number                    SH: ''\n",
       "(0008, 0060) Modality                            CS: 'CT'\n",
       "(0008, 0070) Manufacturer                        LO: 'GE MEDICAL SYSTEMS'\n",
       "(0008, 0080) Institution Name                    LO: ''\n",
       "(0008, 0090) Referring Physician's Name          PN: 'REMOVED'\n",
       "(0008, 1010) Station Name                        SH: ''\n",
       "(0008, 1030) Study Description                   LO: 'PET-CT STUDY'\n",
       "(0008, 103e) Series Description                  LO: 'PET-CT SERIES'\n",
       "(0008, 1070) Operators' Name                     PN: 'REMOVED'\n",
       "(0008, 1090) Manufacturer's Model Name           LO: 'Discovery LS'\n",
       "(0008, 1140)  Referenced Image Sequence  1 item(s) ---- \n",
       "   (0008, 1150) Referenced SOP Class UID            UI: CT Image Storage\n",
       "   (0008, 1155) Referenced SOP Instance UID         UI: 1.3.6.1.4.1.14519.5.2.1.7009.2401.309669954298488088357033289195\n",
       "   ---------\n",
       "(0009, 0010) Private Creator                     LO: 'GEMS_IDEN_01'\n",
       "(0009, 1001) [Full fidelity]                     LO: 'CT_LIGHTSPEED'\n",
       "(0009, 1002) [Suite id]                          SH: 'CT01'\n",
       "(0009, 1004) [Product id]                        SH: 'Discovery LS'\n",
       "(0009, 10e3) [Equipment UID]                     UI: ''\n",
       "(0010, 0010) Patient's Name                      PN: 'ACRIN-FLT-Breast_001'\n",
       "(0010, 0020) Patient ID                          LO: 'ACRIN-FLT-Breast_001'\n",
       "(0010, 0030) Patient's Birth Date                DA: ''\n",
       "(0010, 0040) Patient's Sex                       CS: 'F'\n",
       "(0010, 1010) Patient's Age                       AS: '046Y'\n",
       "(0010, 1030) Patient's Weight                    DS: '86.0'\n",
       "(0012, 0050) Clinical Trial Time Point ID        LO: '0'\n",
       "(0012, 0051) Clinical Trial Time Point Descripti ST: 'Days offset from diagnosis'\n",
       "(0012, 0062) Patient Identity Removed            CS: 'YES'\n",
       "(0012, 0063) De-identification Method            LO: 'Per DICOM PS 3.15 AnnexE. Details in 0012,0064'\n",
       "(0012, 0064)  De-identification Method Code Sequence  8 item(s) ---- \n",
       "   (0008, 0100) Code Value                          SH: '113100'\n",
       "   (0008, 0102) Coding Scheme Designator            SH: 'DCM'\n",
       "   (0008, 0104) Code Meaning                        LO: 'Basic Application Confidentiality Profile'\n",
       "   ---------\n",
       "   (0008, 0100) Code Value                          SH: '113101'\n",
       "   (0008, 0102) Coding Scheme Designator            SH: 'DCM'\n",
       "   (0008, 0104) Code Meaning                        LO: 'Clean Pixel Data Option'\n",
       "   ---------\n",
       "   (0008, 0100) Code Value                          SH: '113104'\n",
       "   (0008, 0102) Coding Scheme Designator            SH: 'DCM'\n",
       "   (0008, 0104) Code Meaning                        LO: 'Clean Structured Content Option'\n",
       "   ---------\n",
       "   (0008, 0100) Code Value                          SH: '113105'\n",
       "   (0008, 0102) Coding Scheme Designator            SH: 'DCM'\n",
       "   (0008, 0104) Code Meaning                        LO: 'Clean Descriptors Option'\n",
       "   ---------\n",
       "   (0008, 0100) Code Value                          SH: '113107'\n",
       "   (0008, 0102) Coding Scheme Designator            SH: 'DCM'\n",
       "   (0008, 0104) Code Meaning                        LO: 'Retain Longitudinal Temporal Information Modified Dates Option'\n",
       "   ---------\n",
       "   (0008, 0100) Code Value                          SH: '113108'\n",
       "   (0008, 0102) Coding Scheme Designator            SH: 'DCM'\n",
       "   (0008, 0104) Code Meaning                        LO: 'Retain Patient Characteristics Option'\n",
       "   ---------\n",
       "   (0008, 0100) Code Value                          SH: '113109'\n",
       "   (0008, 0102) Coding Scheme Designator            SH: 'DCM'\n",
       "   (0008, 0104) Code Meaning                        LO: 'Retain Device Identity Option'\n",
       "   ---------\n",
       "   (0008, 0100) Code Value                          SH: '113111'\n",
       "   (0008, 0102) Coding Scheme Designator            SH: 'DCM'\n",
       "   (0008, 0104) Code Meaning                        LO: 'Retain Safe Private Option'\n",
       "   ---------\n",
       "(0013, 0010) Private Creator                     LO: 'CTP'\n",
       "(0013, 1010) Private tag data                    LO: 'ACRIN-FLT-Breast'\n",
       "(0013, 1013) Private tag data                    LO: '70092401'\n",
       "(0018, 0015) Body Part Examined                  CS: 'BREAST'\n",
       "(0018, 0022) Scan Options                        CS: 'HELICAL MODE'\n",
       "(0018, 0050) Slice Thickness                     DS: '5.0'\n",
       "(0018, 0060) KVP                                 DS: '140.0'\n",
       "(0018, 0090) Data Collection Diameter            DS: '500.0'\n",
       "(0018, 1020) Software Versions                   LO: ''\n",
       "(0018, 1030) Protocol Name                       LO: ''\n",
       "(0018, 1100) Reconstruction Diameter             DS: '500.0'\n",
       "(0018, 1110) Distance Source to Detector         DS: '949.075012'\n",
       "(0018, 1111) Distance Source to Patient          DS: '541.0'\n",
       "(0018, 1120) Gantry/Detector Tilt                DS: '0.0'\n",
       "(0018, 1130) Table Height                        DS: '105.300003'\n",
       "(0018, 1140) Rotation Direction                  CS: 'CW'\n",
       "(0018, 1150) Exposure Time                       IS: '1186'\n",
       "(0018, 1151) X-Ray Tube Current                  IS: '150'\n",
       "(0018, 1152) Exposure                            IS: '1440'\n",
       "(0018, 1160) Filter Type                         SH: 'BODY FILTER'\n",
       "(0018, 1170) Generator Power                     IS: '21000'\n",
       "(0018, 1190) Focal Spot(s)                       DS: '0.7'\n",
       "(0018, 1210) Convolution Kernel                  SH: 'SOFT'\n",
       "(0018, 5100) Patient Position                    CS: 'HFS'\n",
       "(0019, 0010) Private Creator                     LO: 'GEMS_ACQU_01'\n",
       "(0019, 1002) [Detector Channel]                  SL: 912\n",
       "(0019, 1003) [Cell number at Theta]              DS: '389.75'\n",
       "(0019, 1004) [Cell spacing]                      DS: '1.0239'\n",
       "(0019, 100f) [Horiz. Frame of ref.]              DS: '630.219971'\n",
       "(0019, 1011) [Series contrast]                   SS: 0\n",
       "(0019, 1018) [First scan ras]                    LO: 'I'\n",
       "(0019, 101a) [Last scan ras]                     LO: 'I'\n",
       "(0019, 1023) [Table Speed [mm/rotation]]         DS: '13.75'\n",
       "(0019, 1024) [Mid Scan Time [sec]]               DS: '6.528455'\n",
       "(0019, 1025) [Mid scan flag]                     SS: 1\n",
       "(0019, 1026) [Tube Azimuth [degree]]             SL: 355\n",
       "(0019, 1027) [Rotation Speed [msec]]             DS: '0.8'\n",
       "(0019, 102c) [Number of triggers]                SL: 11815\n",
       "(0019, 102e) [Angle of first view]               DS: '0.0'\n",
       "(0019, 102f) [Trigger frequency]                 DS: '1230.0'\n",
       "(0019, 1039) [SFOV Type]                         SS: 16\n",
       "(0019, 1042) [Segment Number]                    SS: 0\n",
       "(0019, 1043) [Total Segments Required]           SS: 0\n",
       "(0019, 1047) [View compression factor]           SS: 1\n",
       "(0019, 1052) [Recon post proc. Flag]             SS: 1\n",
       "(0019, 106a) [Dependent on #views processed]     SS: 3\n",
       "(0020, 000d) Study Instance UID                  UI: 1.3.6.1.4.1.14519.5.2.1.7009.2401.204286950505277246830527869206\n",
       "(0020, 000e) Series Instance UID                 UI: 1.3.6.1.4.1.14519.5.2.1.7009.2401.720471748748674198140396975824\n",
       "(0020, 0010) Study ID                            SH: '345678'\n",
       "(0020, 0011) Series Number                       IS: '2'\n",
       "(0020, 0012) Acquisition Number                  IS: '1'\n",
       "(0020, 0013) Instance Number                     IS: '25'\n",
       "(0020, 0032) Image Position (Patient)            DS: [-250.000000, -250.000000, -170.500000]\n",
       "(0020, 0037) Image Orientation (Patient)         DS: [1.000000, 0.000000, 0.000000, 0.000000, 1.000000, 0.000000]\n",
       "(0020, 0052) Frame of Reference UID              UI: 1.3.6.1.4.1.14519.5.2.1.7009.2401.246071434129280599921901451240\n",
       "(0020, 1040) Position Reference Indicator        LO: 'OM'\n",
       "(0020, 1041) Slice Location                      DS: '-170.5'\n",
       "(0021, 0010) Private Creator                     LO: 'GEMS_RELA_01'\n",
       "(0021, 1036) [Image from which prescribed]       SS: 1\n",
       "(0021, 1091) [Biopsy position]                   SS: 0\n",
       "(0021, 1092) [Biopsy T location]                 FL: 0.0\n",
       "(0021, 1093) [Biopsy ref location]               FL: 0.0\n",
       "(0023, 0010) Private Creator                     LO: 'GEMS_STDY_01'\n",
       "(0027, 0010) Private Creator                     LO: 'GEMS_IMAG_01'\n",
       "(0027, 1010) [Scout Type]                        SS: 0\n",
       "(0027, 101c) [Vma mamp]                          SL: 0\n",
       "(0027, 101e) [Vma mod]                           SL: 0\n",
       "(0027, 101f) [Vma clip]                          SL: 100\n",
       "(0027, 1020) [Smart scan ON/OFF flag]            SS: 1\n",
       "(0027, 1035) [Plane Type]                        SS: 2\n",
       "(0027, 1042) [Center R coord of plane image]     FL: 0.0\n",
       "(0027, 1043) [Center A coord of plane image]     FL: 0.0\n",
       "(0027, 1044) [Center S coord of plane image]     FL: -170.5\n",
       "(0027, 1045) [Normal R coord]                    FL: 0.0\n",
       "(0027, 1046) [Normal A coord]                    FL: -0.0\n",
       "(0027, 1047) [Normal S coord]                    FL: 1.0\n",
       "(0027, 1050) [Scan Start Location]               FL: 0.0\n",
       "(0027, 1051) [Scan End Location]                 FL: 0.0\n",
       "(0028, 0002) Samples per Pixel                   US: 1\n",
       "(0028, 0004) Photometric Interpretation          CS: 'MONOCHROME2'\n",
       "(0028, 0010) Rows                                US: 512\n",
       "(0028, 0011) Columns                             US: 512\n",
       "(0028, 0030) Pixel Spacing                       DS: [0.976562, 0.976562]\n",
       "(0028, 0100) Bits Allocated                      US: 16\n",
       "(0028, 0101) Bits Stored                         US: 16\n",
       "(0028, 0102) High Bit                            US: 15\n",
       "(0028, 0103) Pixel Representation                US: 1\n",
       "(0028, 0120) Pixel Padding Value                 SS: -2000\n",
       "(0028, 0303) Longitudinal Temporal Information M CS: 'MODIFIED'\n",
       "(0028, 1050) Window Center                       DS: '40.0'\n",
       "(0028, 1051) Window Width                        DS: '400.0'\n",
       "(0028, 1052) Rescale Intercept                   DS: '-1024.0'\n",
       "(0028, 1053) Rescale Slope                       DS: '1.0'\n",
       "(0043, 0010) Private Creator                     LO: 'GEMS_PARM_01'\n",
       "(0043, 1010) [Window value]                      US: 400\n",
       "(0043, 1012) [X-ray chain]                       SS: [99, 99, 99]\n",
       "(0043, 1016) [Number of overranges]              SS: -1\n",
       "(0043, 101e) [Delta Start Time [msec]]           DS: '5.934959'\n",
       "(0043, 101f) [Max overranges in a view]          SL: 0\n",
       "(0043, 1021) [Corrected after glow terms]        SS: 0\n",
       "(0043, 1025) [Reference channels]                SS: [0, 0, 0, 0, 0, 0]\n",
       "(0043, 1026) [No views ref chans blocked]        US: [0, 0, 0, 0, 0, 0, 0, 0]\n",
       "(0043, 1027) [Scan Pitch Ratio]                  SH: '1.375:1'\n",
       "(0043, 102b) [Private Scan Options]              SS: [2, 0, 0, 0]\n",
       "(0043, 1031) [Recon Center Coordinates]          DS: [0.000000, 0.000000]\n",
       "(0043, 1040) [Trigger on position]               FL: 101.06407928466797\n",
       "(0043, 1041) [Degree of rotation]                FL: 4322.56103515625\n",
       "(0043, 1042) [DAS trigger source]                SL: 0\n",
       "(0043, 1043) [DAS fpa gain]                      SL: 0\n",
       "(0043, 1044) [DAS output source]                 SL: 0\n",
       "(0043, 1045) [DAS ad input]                      SL: 0\n",
       "(0043, 1046) [DAS cal mode]                      SL: 0\n",
       "(0043, 104d) [Start scan to X-ray on delay]      FL: 0.0\n",
       "(0043, 104e) [Duration of X-ray on]              FL: 9.604833602905273\n",
       "(0045, 0010) Private Creator                     LO: 'GEMS_HELIOS_01'\n",
       "(0045, 1001) [Number of Macro Rows in Detector]  SS: 16\n",
       "(0045, 1002) [Macro width at ISO Center]         FL: 1.2611686178923354e-44\n",
       "(0045, 1003) [DAS type]                          SS: 9\n",
       "(0045, 1004) [DAS gain]                          SS: 3\n",
       "(0045, 1006) [Table Direction]                   CS: 'INTO GANTRY'\n",
       "(0045, 1007) [Z smoothing Factor]                FL: 0.0\n",
       "(0045, 1008) [View Weighting Mode]               SS: 0\n",
       "(0045, 1009) [Sigma Row number]                  SS: 0\n",
       "(0045, 100a) [Minimum DAS value]                 FL: 0.0\n",
       "(0045, 100b) [Maximum Offset Value]              FL: 0.0\n",
       "(0045, 100c) [Number of Views shifted]           SS: 0\n",
       "(0045, 100d) [Z tracking Flag]                   SS: 0\n",
       "(0045, 100e) [Mean Z error]                      FL: 0.0\n",
       "(0045, 100f) [Z tracking Error]                  FL: 0.0\n",
       "(0045, 1010) [Start View 2A]                     SS: 0\n",
       "(0045, 1011) [Number of Views 2A]                SS: 0\n",
       "(0045, 1012) [Start View 1A]                     SS: 0\n",
       "(0045, 1013) [Sigma Mode]                        SS: 0\n",
       "(0045, 1014) [Number of Views 1A]                SS: 0\n",
       "(0045, 1015) [Start View 2B]                     SS: 0\n",
       "(0045, 1016) [Number Views 2B]                   SS: 0\n",
       "(0045, 1017) [Start View 1B]                     SS: 0\n",
       "(0045, 1018) [Number of Views 1B]                SS: 0\n",
       "(0045, 1021) [Iterbone Flag]                     SS: 0\n",
       "(0045, 1022) [Perisstaltic Flag]                 SS: 0\n",
       "(0045, 1032) [TemporalResolution]                FL: 1.186991810798645\n",
       "(7fe0, 0010) Pixel Data                          OW: Array of 524288 elements"
      ]
     },
     "execution_count": 11,
     "metadata": {},
     "output_type": "execute_result"
    }
   ],
   "source": [
    "##### Code goes here\n",
    "ds= pydicom.dcmread(\"1-25.dcm\")\n",
    "ds\n",
    "\n",
    "\n"
   ]
  },
  {
   "cell_type": "markdown",
   "metadata": {
    "id": "PEXG-LJzysW9"
   },
   "source": [
    "Extract the following DICOM tags to retrieve specific patient details and store them in a variable.\n",
    " *  Patient Name (Tag 0x0010, 0x0010)\n",
    " *  Patient ID (Tag 0x0010, 0x0020)\n",
    " *  Patient Birth Date (Tag 0x0010, 0x0030)\n"
   ]
  },
  {
   "cell_type": "code",
   "execution_count": 12,
   "metadata": {
    "id": "Qf8kuSlKzPNs"
   },
   "outputs": [],
   "source": [
    "### Put your code here\n",
    "patient_name = ds.PatientName\n",
    "patient_id = ds.PatientID\n",
    "patient_Birth_Date = ds.PatientBirthDate\n",
    "\n",
    "patient_details = {\n",
    "    \"PatientName\": patient_name,\n",
    "    \"PatientID\": patient_id,\n",
    "    \"PatientBirthDate\": patient_Birth_Date,\n",
    "}\n",
    "\n",
    "\n"
   ]
  },
  {
   "cell_type": "markdown",
   "metadata": {
    "id": "GygRH4-3zVVW"
   },
   "source": [
    "Print the extracted name, ID, and birth date"
   ]
  },
  {
   "cell_type": "code",
   "execution_count": 13,
   "metadata": {
    "id": "dgeE7U7mzRp2"
   },
   "outputs": [
    {
     "name": "stdout",
     "output_type": "stream",
     "text": [
      "ACRIN-FLT-Breast_001\n",
      "ACRIN-FLT-Breast_001\n",
      "\n"
     ]
    }
   ],
   "source": [
    "##### Put your code here\n",
    "print(patient_details[\"PatientName\"])\n",
    "print(patient_details[\"PatientID\"])\n",
    "print(patient_details[\"PatientBirthDate\"])\n",
    "\n"
   ]
  },
  {
   "cell_type": "markdown",
   "metadata": {
    "id": "606OrMiwzlT8"
   },
   "source": [
    "Display the image from your DICOM file using matplotlib"
   ]
  },
  {
   "cell_type": "code",
   "execution_count": 14,
   "metadata": {
    "id": "OM2Cvpggzu0W"
   },
   "outputs": [
    {
     "data": {
      "text/plain": [
       "<matplotlib.image.AxesImage at 0x13fc004e390>"
      ]
     },
     "execution_count": 14,
     "metadata": {},
     "output_type": "execute_result"
    },
    {
     "data": {
      "image/png": "[encoded data removed]",
      "text/plain": [
       "<Figure size 640x480 with 1 Axes>"
      ]
     },
     "metadata": {},
     "output_type": "display_data"
    }
   ],
   "source": [
    "#####   Put your code here\n",
    "plt.imshow(ds.pixel_array, cmap=plt.cm.gray)"
   ]
  },
  {
   "cell_type": "code",
   "execution_count": null,
   "metadata": {},
   "outputs": [],
   "source": []
  }
 ],
 "metadata": {
  "colab": {
   "provenance": []
  },
  "kernelspec": {
   "display_name": "Python 3 (ipykernel)",
   "language": "python",
   "name": "python3"
  },
  "language_info": {
   "codemirror_mode": {
    "name": "ipython",
    "version": 3
   },
   "file_extension": ".py",
   "mimetype": "text/x-python",
   "name": "python",
   "nbconvert_exporter": "python",
   "pygments_lexer": "ipython3",
   "version": "3.11.5"
  }
 },
 "nbformat": 4,
 "nbformat_minor": 1
}
